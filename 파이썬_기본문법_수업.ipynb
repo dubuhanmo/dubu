{
  "nbformat": 4,
  "nbformat_minor": 0,
  "metadata": {
    "colab": {
      "private_outputs": true,
      "provenance": [],
      "authorship_tag": "ABX9TyOCGc2X99Zt8ACTJWHgeBZi",
      "include_colab_link": true
    },
    "kernelspec": {
      "name": "python3",
      "display_name": "Python 3"
    },
    "language_info": {
      "name": "python"
    }
  },
  "cells": [
    {
      "cell_type": "markdown",
      "metadata": {
        "id": "view-in-github",
        "colab_type": "text"
      },
      "source": [
        "<a href=\"https://colab.research.google.com/github/dubuhanmo/dubu/blob/main/%ED%8C%8C%EC%9D%B4%EC%8D%AC_%EA%B8%B0%EB%B3%B8%EB%AC%B8%EB%B2%95_%EC%88%98%EC%97%85.ipynb\" target=\"_parent\"><img src=\"https://colab.research.google.com/assets/colab-badge.svg\" alt=\"Open In Colab\"/></a>"
      ]
    },
    {
      "cell_type": "markdown",
      "source": [
        "# 01. 코랩 단축기\n",
        "\n",
        "* ctrl + m h = 단축키 모음\n",
        "* ctrl + enter = 해당 셀을 실행하고 커서를 해당 셀에 두는 경우 (결과 값만 보고자 할 때)\n",
        "* shift + enter = 해당 셀을 실행하고 커서를 다음 셀로 넘기는 경우 (여러가지 값을 빠르게 출력할 때)\n",
        "* alt + enter = 해당 셀을 실행하고 셀을 삽입한 후 커서를 삽입한 셀로 넘기는 경우 (다음 작업 공간이 없을 때)\n",
        "* ctrl + m a = 코드 셀 위에 삽입\n",
        "* ctrl + m b = 코드 셀 아래 삽입\n",
        "* ctrl + m d = 셀 지우기\n",
        "* ctrl + m y = 텍스트 셀(마크다운 창)을 코드 셀로 변경\n",
        "* ctrl + m m = 코드 셀을 텍스트 셀로 변경\n",
        "* ctrl + m z = 실행 취소"
      ],
      "metadata": {
        "id": "i1x3NMGOMhKQ"
      }
    },
    {
      "cell_type": "markdown",
      "source": [
        "# 02. 마크다운\n",
        "\n",
        "* [마크다운 기본본문법](https://www.markdownguide.org/basic-syntax/)"
      ],
      "metadata": {
        "id": "vF-ANphONXUp"
      }
    },
    {
      "cell_type": "markdown",
      "source": [
        "# 03. 주석\n",
        "\n",
        "* crtl + / 한번에 여러 줄 주석 처리할 때, 반대로 해제할 때때"
      ],
      "metadata": {
        "id": "OckeWPSmPkdN"
      }
    }
  ]
}